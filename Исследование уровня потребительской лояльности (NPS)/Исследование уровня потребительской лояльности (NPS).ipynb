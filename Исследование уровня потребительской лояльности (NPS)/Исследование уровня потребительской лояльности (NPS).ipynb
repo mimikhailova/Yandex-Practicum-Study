{
 "cells": [
  {
   "cell_type": "markdown",
   "id": "93967e43",
   "metadata": {},
   "source": [
    "# Исследование уровня потребительской лояльности (NPS)"
   ]
  },
  {
   "cell_type": "markdown",
   "id": "7b1c9df0",
   "metadata": {},
   "source": [
    "## Основная информация о проекте"
   ]
  },
  {
   "cell_type": "markdown",
   "id": "211ce6a6",
   "metadata": {},
   "source": [
    "**Заказчик исследования** — большая телекоммуникационная компания, которая оказывает услуги на территории всего СНГ. \n",
    "\n",
    "**Цель исследования** - определить текущий уровень потребительской лояльности или NPS (от англ. Net Promoter Score), среди клиентов из России.\n",
    "\n",
    "**Задачи исследования:**\n",
    "1. Определить, как участники распределены участники опроса по возрасту и полу;  \n",
    "2. Исследовать, каких пользователей больше: новых или старых;\n",
    "3. Выделить ТОП-5 городов по количеству респондентов;\n",
    "4. Определите группы, которые наиболее и наименее лояльны к сервису;\n",
    "5. Подсчитать общий NPS среди всех опрошенных и сделать выводы;\n",
    "6. Описать портрет клиента, который является \"сторонником\" компании."
   ]
  },
  {
   "cell_type": "markdown",
   "id": "c9ae2a73",
   "metadata": {},
   "source": [
    "## Подключение к базе и выгрузка данных"
   ]
  },
  {
   "cell_type": "code",
   "execution_count": 2,
   "id": "fc7efa54",
   "metadata": {},
   "outputs": [],
   "source": [
    "import os\n",
    "import pandas as pd\n",
    "import numpy as np\n",
    "\n",
    "from sqlalchemy import create_engine"
   ]
  },
  {
   "cell_type": "code",
   "execution_count": 3,
   "id": "0017f8e7",
   "metadata": {},
   "outputs": [],
   "source": [
    "# путь к БД на вашем компьютере (например, в той же папке, что и тетрадь)\n",
    "path_to_db_local = '/Users/mimikhailova/Downloads/telecomm_csi.db'\n",
    "path_to_db_platform = '/datasets/telecomm_csi.db'\n",
    "path_to_db = None\n",
    "\n",
    "if os.path.exists(path_to_db_local):\n",
    "    path_to_db = path_to_db_local\n",
    "elif os.path.exists(path_to_db_platform):\n",
    "    path_to_db = path_to_db_platform\n",
    "else:\n",
    "    raise Exception('Файл с базой данных SQLite не найден!')\n",
    "\n",
    "if path_to_db:\n",
    "    engine = create_engine(f'sqlite:///{path_to_db}', echo=False)"
   ]
  },
  {
   "cell_type": "code",
   "execution_count": 4,
   "id": "3821e68c",
   "metadata": {},
   "outputs": [],
   "source": [
    "query = \"\"\"\n",
    "SELECT u.user_id, \n",
    "       u.lt_day, \n",
    "       (CASE\n",
    "           WHEN u.lt_day <= 365 THEN 'новый'\n",
    "           ELSE 'старый'\n",
    "       END) AS is_new, \n",
    "       u.age, \n",
    "       (CASE\n",
    "           WHEN u.gender_segment = '0' THEN 'мужчина'\n",
    "           WHEN u.gender_segment = '1' THEN 'женщина'\n",
    "           ELSE 'другие'\n",
    "       END) AS gender_segment,\n",
    "       u.os_name, \n",
    "       u.cpe_type_name, \n",
    "       l.country, \n",
    "       l.city,\n",
    "       SUBSTRING(age.title, 4) AS age_segment,\n",
    "       SUBSTRING(traf.title, 4) AS traffic_segment,\n",
    "       SUBSTRING(lt.title, 4) AS lifetime_segment,\n",
    "       u.nps_score,\n",
    "       (CASE\n",
    "           WHEN u.nps_score >= 9 THEN 'сторонники'\n",
    "           WHEN u.nps_score <= 6 THEN 'критики'\n",
    "           ELSE 'нейтралы'\n",
    "        END) AS nps_group\n",
    "FROM user as u\n",
    "LEFT JOIN location AS l on l.location_id=u.location_id\n",
    "LEFT JOIN age_segment AS age on u.age_gr_id=age.age_gr_id\n",
    "LEFT JOIN traffic_segment AS traf on u.tr_gr_id=traf.tr_gr_id\n",
    "LEFT JOIN lifetime_segment AS lt on lt.lt_gr_id=u.lt_gr_id\n",
    "\"\"\""
   ]
  },
  {
   "cell_type": "code",
   "execution_count": 5,
   "id": "b5696f82",
   "metadata": {},
   "outputs": [],
   "source": [
    "df = pd.read_sql(query, engine)"
   ]
  },
  {
   "cell_type": "code",
   "execution_count": 6,
   "id": "09047e69",
   "metadata": {
    "scrolled": true
   },
   "outputs": [],
   "source": [
    "df.to_csv('telecomm_csi.csv', index=False)"
   ]
  },
  {
   "cell_type": "markdown",
   "id": "eb4b2eac",
   "metadata": {},
   "source": [
    "## Дашборд"
   ]
  },
  {
   "cell_type": "markdown",
   "id": "7a191d51",
   "metadata": {},
   "source": [
    "<a href=\"https://public.tableau.com/views/TelecommNPS_17219230195700/NPSDash?:language=en-US&publish=yes&:sid=&:redirect=auth&:display_count=n&:origin=viz_share_link]\">Ссылка на дашборд</a>"
   ]
  },
  {
   "cell_type": "markdown",
   "id": "3949c16c",
   "metadata": {},
   "source": [
    "## Презентация и основные выводы по проекту"
   ]
  },
  {
   "cell_type": "markdown",
   "id": "14bd07f4",
   "metadata": {},
   "source": [
    "<a href=\"https://public.tableau.com/views/TelecommNPS_17219230195700/TELECOMM?:language=en-US&publish=yes&:sid=&:redirect=auth&:display_count=n&:origin=viz_share_link\">Ссылка на презентацию в Tableau</a>"
   ]
  },
  {
   "cell_type": "markdown",
   "id": "bc117dec",
   "metadata": {},
   "source": [
    "### Основные выводы и наблюдения по проекту"
   ]
  },
  {
   "cell_type": "markdown",
   "id": "350baf6d",
   "metadata": {},
   "source": [
    "#### Общая информация о клиентах"
   ]
  },
  {
   "cell_type": "markdown",
   "id": "ba1f50cb",
   "metadata": {},
   "source": [
    "В опросе принимали участие **502493** пользователей. \n",
    "\n",
    "Большая часть опрошенных – **женщины** (54,22%). Также среди респондентов есть незначительное количество пользователей, не указавших информацию о своем поле – 0,26%. \n",
    "\n",
    "33,02% опрошенных находятся в возрастном диапазоне **от 35 до 44 лет**, 30,81% - **от 25 до 34**, причем категория 35-44 преобладает у обоих гендеров.\n",
    "\n",
    "416393 пользователя (82,87%) являются **старыми**,причем более 50% клиентов  пользуются услугами **более 3-х лет**.\n",
    "\n",
    "В топ-5 городов по количеству опрошенных пользователей вошли **Москва, Санкт-Петербург, Новосибирск, Екатеринбург, Казань**. "
   ]
  },
  {
   "cell_type": "markdown",
   "id": "b089b429",
   "metadata": {},
   "source": [
    "#### Портрет \"сторонника\""
   ]
  },
  {
   "cell_type": "markdown",
   "id": "974f9366",
   "metadata": {},
   "source": [
    "Сторонники представляют **наибольшую** долю среди всех опрошенных - 264 081 человек и 52,55%. Ими являются преимущественно **женщины** (56,57% опрошенных). По возрасту наибольшее количество сторонников находятся в категории **от 35 до 44 лет**. Сторонники являются **старыми** клиентами, которые пользуются услугами компании более года. Наибольшее количество сторонников проживает в **Москве, Санкт-Петербурге, Новосибирске, Казани и Екатеринбурге**. "
   ]
  },
  {
   "cell_type": "markdown",
   "id": "b877b806",
   "metadata": {},
   "source": [
    "#### Показатель NPS"
   ]
  },
  {
   "cell_type": "markdown",
   "id": "fb1cea1b",
   "metadata": {},
   "source": [
    "Общий показатель NPS равен **21,9%**. Данное значение сигнализирует о том, что несмотря на превалирующее количество сторонников, с бизнесом что-то **идет не так**. \n",
    "\n",
    "Один из вариантов решения проблемы – **проведение опроса среди пользователей** по поводу удовлетворения качеством оказываемых услуг, а также узнать о моментах, которые вызывают дискомфорт (интерфейс, работа службы поддержки и т.п). "
   ]
  }
 ],
 "metadata": {
  "ExecuteTimeLog": [
   {
    "duration": 579,
    "start_time": "2024-07-23T11:23:52.241Z"
   },
   {
    "duration": 84,
    "start_time": "2024-07-23T11:24:22.114Z"
   },
   {
    "duration": 68,
    "start_time": "2024-07-23T11:47:48.880Z"
   },
   {
    "duration": 10,
    "start_time": "2024-07-23T13:17:13.518Z"
   },
   {
    "duration": 3,
    "start_time": "2024-07-23T13:17:27.826Z"
   },
   {
    "duration": 4,
    "start_time": "2024-07-23T13:17:34.805Z"
   },
   {
    "duration": 4,
    "start_time": "2024-07-23T13:19:24.858Z"
   },
   {
    "duration": 2,
    "start_time": "2024-07-23T13:21:13.450Z"
   },
   {
    "duration": 78,
    "start_time": "2024-07-23T13:21:45.587Z"
   },
   {
    "duration": 3887,
    "start_time": "2024-07-23T13:22:05.067Z"
   },
   {
    "duration": 20,
    "start_time": "2024-07-23T13:22:13.572Z"
   },
   {
    "duration": 3,
    "start_time": "2024-07-23T13:26:40.680Z"
   },
   {
    "duration": 2835,
    "start_time": "2024-07-23T13:26:47.381Z"
   },
   {
    "duration": 215,
    "start_time": "2024-07-23T13:26:50.718Z"
   },
   {
    "duration": 3,
    "start_time": "2024-07-23T13:27:00.749Z"
   },
   {
    "duration": 2832,
    "start_time": "2024-07-23T13:27:01.913Z"
   },
   {
    "duration": 2,
    "start_time": "2024-07-23T13:29:56.687Z"
   },
   {
    "duration": 3034,
    "start_time": "2024-07-23T13:29:58.063Z"
   },
   {
    "duration": 3,
    "start_time": "2024-07-23T13:30:13.757Z"
   },
   {
    "duration": 2960,
    "start_time": "2024-07-23T13:30:15.278Z"
   },
   {
    "duration": 3,
    "start_time": "2024-07-23T13:32:37.136Z"
   },
   {
    "duration": 3138,
    "start_time": "2024-07-23T13:32:38.544Z"
   },
   {
    "duration": 2,
    "start_time": "2024-07-23T13:33:21.627Z"
   },
   {
    "duration": 3932,
    "start_time": "2024-07-23T13:33:24.449Z"
   },
   {
    "duration": 3,
    "start_time": "2024-07-23T13:36:03.736Z"
   },
   {
    "duration": 677,
    "start_time": "2024-07-23T13:36:05.629Z"
   },
   {
    "duration": 1187,
    "start_time": "2024-07-23T13:36:10.010Z"
   },
   {
    "duration": 2,
    "start_time": "2024-07-23T13:36:12.503Z"
   },
   {
    "duration": 2,
    "start_time": "2024-07-23T13:36:18.086Z"
   },
   {
    "duration": 4381,
    "start_time": "2024-07-23T13:36:19.980Z"
   },
   {
    "duration": 3,
    "start_time": "2024-07-23T13:36:45.814Z"
   },
   {
    "duration": 4075,
    "start_time": "2024-07-23T13:36:48.572Z"
   },
   {
    "duration": 4,
    "start_time": "2024-07-23T13:38:27.385Z"
   },
   {
    "duration": 4551,
    "start_time": "2024-07-23T13:38:28.177Z"
   },
   {
    "duration": 483,
    "start_time": "2024-07-23T13:38:43.978Z"
   },
   {
    "duration": 3,
    "start_time": "2024-07-23T13:39:09.507Z"
   },
   {
    "duration": 4897,
    "start_time": "2024-07-23T13:39:11.952Z"
   },
   {
    "duration": 2,
    "start_time": "2024-07-23T13:39:38.196Z"
   },
   {
    "duration": 4887,
    "start_time": "2024-07-23T13:39:39.151Z"
   },
   {
    "duration": 2,
    "start_time": "2024-07-23T13:40:07.671Z"
   },
   {
    "duration": 4816,
    "start_time": "2024-07-23T13:40:08.260Z"
   },
   {
    "duration": 685,
    "start_time": "2024-07-23T13:40:30.781Z"
   },
   {
    "duration": 3,
    "start_time": "2024-07-23T13:40:38.563Z"
   },
   {
    "duration": 5145,
    "start_time": "2024-07-23T13:40:40.939Z"
   },
   {
    "duration": 662,
    "start_time": "2024-07-23T13:41:04.188Z"
   },
   {
    "duration": 3,
    "start_time": "2024-07-23T13:41:07.532Z"
   },
   {
    "duration": 550,
    "start_time": "2024-07-23T13:41:41.874Z"
   },
   {
    "duration": 61,
    "start_time": "2024-07-23T13:41:42.426Z"
   },
   {
    "duration": 3,
    "start_time": "2024-07-23T13:41:42.489Z"
   },
   {
    "duration": 5,
    "start_time": "2024-07-23T13:41:42.493Z"
   },
   {
    "duration": 4936,
    "start_time": "2024-07-23T13:41:42.499Z"
   },
   {
    "duration": 4,
    "start_time": "2024-07-23T13:51:33.151Z"
   },
   {
    "duration": 446,
    "start_time": "2024-07-23T13:51:35.075Z"
   },
   {
    "duration": 581,
    "start_time": "2024-07-23T13:51:44.035Z"
   },
   {
    "duration": 71,
    "start_time": "2024-07-23T13:51:44.618Z"
   },
   {
    "duration": 2,
    "start_time": "2024-07-23T13:51:44.691Z"
   },
   {
    "duration": 11,
    "start_time": "2024-07-23T13:51:44.694Z"
   },
   {
    "duration": 437,
    "start_time": "2024-07-23T13:51:44.707Z"
   },
   {
    "duration": 3,
    "start_time": "2024-07-23T13:52:26.864Z"
   },
   {
    "duration": 987,
    "start_time": "2024-07-23T13:52:27.515Z"
   },
   {
    "duration": 3,
    "start_time": "2024-07-23T13:52:41.278Z"
   },
   {
    "duration": 655,
    "start_time": "2024-07-23T13:52:42.109Z"
   },
   {
    "duration": 3,
    "start_time": "2024-07-23T13:53:25.381Z"
   },
   {
    "duration": 4724,
    "start_time": "2024-07-23T13:53:26.117Z"
   },
   {
    "duration": 3,
    "start_time": "2024-07-23T13:57:22.028Z"
   },
   {
    "duration": 4877,
    "start_time": "2024-07-23T13:57:22.883Z"
   },
   {
    "duration": 4,
    "start_time": "2024-07-23T14:02:32.452Z"
   },
   {
    "duration": 5114,
    "start_time": "2024-07-23T14:02:34.301Z"
   },
   {
    "duration": 3,
    "start_time": "2024-07-23T14:03:26.901Z"
   },
   {
    "duration": 5118,
    "start_time": "2024-07-23T14:03:29.636Z"
   },
   {
    "duration": 3,
    "start_time": "2024-07-23T14:06:14.644Z"
   },
   {
    "duration": 381,
    "start_time": "2024-07-23T14:06:17.388Z"
   },
   {
    "duration": 4,
    "start_time": "2024-07-23T14:06:31.329Z"
   },
   {
    "duration": 5544,
    "start_time": "2024-07-23T14:06:32.329Z"
   },
   {
    "duration": 3,
    "start_time": "2024-07-23T14:09:52.675Z"
   },
   {
    "duration": 5458,
    "start_time": "2024-07-23T14:09:54.864Z"
   },
   {
    "duration": 3,
    "start_time": "2024-07-23T14:10:29.636Z"
   },
   {
    "duration": 5558,
    "start_time": "2024-07-23T14:10:32.632Z"
   },
   {
    "duration": 4,
    "start_time": "2024-07-23T14:11:09.025Z"
   },
   {
    "duration": 5762,
    "start_time": "2024-07-23T14:11:10.153Z"
   },
   {
    "duration": 50,
    "start_time": "2024-07-23T14:12:45.770Z"
   },
   {
    "duration": 570,
    "start_time": "2024-07-23T14:12:51.671Z"
   },
   {
    "duration": 67,
    "start_time": "2024-07-23T14:12:52.243Z"
   },
   {
    "duration": 4,
    "start_time": "2024-07-23T14:12:52.312Z"
   },
   {
    "duration": 5884,
    "start_time": "2024-07-23T14:12:52.317Z"
   },
   {
    "duration": 3,
    "start_time": "2024-07-23T14:13:31.626Z"
   },
   {
    "duration": 5819,
    "start_time": "2024-07-23T14:13:32.767Z"
   },
   {
    "duration": 5847,
    "start_time": "2024-07-23T14:15:01.631Z"
   },
   {
    "duration": 5863,
    "start_time": "2024-07-23T14:16:39.768Z"
   },
   {
    "duration": 28,
    "start_time": "2024-07-23T14:16:51.935Z"
   },
   {
    "duration": 5141,
    "start_time": "2024-07-23T14:19:38.501Z"
   },
   {
    "duration": 22,
    "start_time": "2024-07-23T14:19:46.593Z"
   },
   {
    "duration": 5079,
    "start_time": "2024-07-23T14:21:32.532Z"
   },
   {
    "duration": 509,
    "start_time": "2024-07-23T15:09:43.612Z"
   },
   {
    "duration": 72,
    "start_time": "2024-07-23T15:09:44.123Z"
   },
   {
    "duration": 4,
    "start_time": "2024-07-23T15:09:44.196Z"
   },
   {
    "duration": 5867,
    "start_time": "2024-07-23T15:09:44.201Z"
   },
   {
    "duration": 34,
    "start_time": "2024-07-23T15:09:50.069Z"
   },
   {
    "duration": 5034,
    "start_time": "2024-07-23T15:09:50.104Z"
   },
   {
    "duration": 4819,
    "start_time": "2024-07-23T15:11:58.804Z"
   },
   {
    "duration": 78,
    "start_time": "2024-07-23T15:14:25.878Z"
   },
   {
    "duration": 21,
    "start_time": "2024-07-23T15:15:32.255Z"
   },
   {
    "duration": 4703,
    "start_time": "2024-07-23T16:55:17.303Z"
   },
   {
    "duration": 4,
    "start_time": "2024-07-24T07:18:57.822Z"
   },
   {
    "duration": 515,
    "start_time": "2024-07-24T07:19:02.047Z"
   },
   {
    "duration": 67,
    "start_time": "2024-07-24T07:19:02.564Z"
   },
   {
    "duration": 4,
    "start_time": "2024-07-24T07:19:02.632Z"
   },
   {
    "duration": 5991,
    "start_time": "2024-07-24T07:19:02.638Z"
   },
   {
    "duration": 4599,
    "start_time": "2024-07-24T07:19:08.631Z"
   },
   {
    "duration": 174,
    "start_time": "2024-07-24T07:19:45.324Z"
   },
   {
    "duration": 560,
    "start_time": "2024-07-24T07:20:37.698Z"
   },
   {
    "duration": 69,
    "start_time": "2024-07-24T07:20:38.260Z"
   },
   {
    "duration": 5,
    "start_time": "2024-07-24T07:20:38.331Z"
   },
   {
    "duration": 6007,
    "start_time": "2024-07-24T07:20:38.338Z"
   },
   {
    "duration": 4979,
    "start_time": "2024-07-24T07:20:44.347Z"
   },
   {
    "duration": 517,
    "start_time": "2024-07-24T11:46:49.291Z"
   },
   {
    "duration": 80,
    "start_time": "2024-07-24T11:46:49.810Z"
   },
   {
    "duration": 3,
    "start_time": "2024-07-24T11:46:49.892Z"
   },
   {
    "duration": 5440,
    "start_time": "2024-07-24T11:46:49.896Z"
   },
   {
    "duration": 4016,
    "start_time": "2024-07-24T11:46:55.338Z"
   },
   {
    "duration": 3,
    "start_time": "2024-07-24T11:47:42.153Z"
   },
   {
    "duration": 1450,
    "start_time": "2024-07-24T11:47:53.440Z"
   },
   {
    "duration": 1439,
    "start_time": "2024-07-24T11:48:05.914Z"
   },
   {
    "duration": 16,
    "start_time": "2024-07-24T11:48:18.690Z"
   },
   {
    "duration": 12,
    "start_time": "2024-07-24T11:48:26.390Z"
   },
   {
    "duration": 63,
    "start_time": "2024-07-24T11:49:01.318Z"
   },
   {
    "duration": 9,
    "start_time": "2024-07-24T11:49:14.494Z"
   },
   {
    "duration": 479,
    "start_time": "2024-07-24T16:54:48.050Z"
   },
   {
    "duration": 59,
    "start_time": "2024-07-24T16:54:48.531Z"
   },
   {
    "duration": 11,
    "start_time": "2024-07-24T16:54:48.591Z"
   },
   {
    "duration": 5207,
    "start_time": "2024-07-24T16:54:48.603Z"
   },
   {
    "duration": 4082,
    "start_time": "2024-07-24T16:54:53.811Z"
   },
   {
    "duration": 324,
    "start_time": "2024-07-24T16:58:35.207Z"
   },
   {
    "duration": 42,
    "start_time": "2024-07-24T16:58:41.335Z"
   },
   {
    "duration": 44,
    "start_time": "2024-07-24T16:59:00.760Z"
   },
   {
    "duration": 82,
    "start_time": "2024-07-24T16:59:14.311Z"
   },
   {
    "duration": 69,
    "start_time": "2024-07-24T16:59:22.888Z"
   },
   {
    "duration": 60,
    "start_time": "2024-07-24T16:59:30.305Z"
   },
   {
    "duration": 31,
    "start_time": "2024-07-24T16:59:38.014Z"
   },
   {
    "duration": 123,
    "start_time": "2024-07-24T16:59:53.477Z"
   },
   {
    "duration": 65,
    "start_time": "2024-07-24T16:59:57.895Z"
   },
   {
    "duration": 35,
    "start_time": "2024-07-24T17:00:21.214Z"
   },
   {
    "duration": 74,
    "start_time": "2024-07-24T17:00:24.225Z"
   },
   {
    "duration": 64,
    "start_time": "2024-07-24T17:00:29.565Z"
   },
   {
    "duration": 58,
    "start_time": "2024-07-24T17:00:43.807Z"
   },
   {
    "duration": 3,
    "start_time": "2024-07-24T17:07:58.850Z"
   },
   {
    "duration": 7,
    "start_time": "2024-07-24T17:08:04.392Z"
   },
   {
    "duration": 639,
    "start_time": "2024-07-24T17:08:18.036Z"
   },
   {
    "duration": 38,
    "start_time": "2024-07-24T17:09:46.938Z"
   },
   {
    "duration": 41,
    "start_time": "2024-07-24T17:09:58.249Z"
   },
   {
    "duration": 109,
    "start_time": "2024-07-24T17:10:13.973Z"
   },
   {
    "duration": 100,
    "start_time": "2024-07-24T17:10:31.818Z"
   },
   {
    "duration": 3,
    "start_time": "2024-07-24T17:12:18.119Z"
   },
   {
    "duration": 558,
    "start_time": "2024-07-24T17:12:25.773Z"
   },
   {
    "duration": 54,
    "start_time": "2024-07-24T17:12:26.333Z"
   },
   {
    "duration": 3,
    "start_time": "2024-07-24T17:12:26.389Z"
   },
   {
    "duration": 741,
    "start_time": "2024-07-24T17:12:26.393Z"
   },
   {
    "duration": 0,
    "start_time": "2024-07-24T17:12:27.136Z"
   },
   {
    "duration": 0,
    "start_time": "2024-07-24T17:12:27.137Z"
   },
   {
    "duration": 708,
    "start_time": "2024-07-24T17:12:36.291Z"
   },
   {
    "duration": 3,
    "start_time": "2024-07-24T17:13:32.217Z"
   },
   {
    "duration": 5467,
    "start_time": "2024-07-24T17:13:33.770Z"
   },
   {
    "duration": 4529,
    "start_time": "2024-07-24T17:13:47.336Z"
   },
   {
    "duration": 122,
    "start_time": "2024-07-24T17:13:52.698Z"
   },
   {
    "duration": 4323,
    "start_time": "2024-07-24T17:14:14.143Z"
   },
   {
    "duration": 34,
    "start_time": "2024-07-24T17:18:11.011Z"
   },
   {
    "duration": 94,
    "start_time": "2024-07-24T17:18:19.702Z"
   },
   {
    "duration": 94,
    "start_time": "2024-07-24T17:18:26.009Z"
   },
   {
    "duration": 90,
    "start_time": "2024-07-24T17:18:35.393Z"
   },
   {
    "duration": 3,
    "start_time": "2024-07-24T17:18:47.081Z"
   },
   {
    "duration": 5246,
    "start_time": "2024-07-24T17:18:49.793Z"
   },
   {
    "duration": 4135,
    "start_time": "2024-07-24T17:18:55.967Z"
   },
   {
    "duration": 456,
    "start_time": "2024-07-24T17:39:04.143Z"
   },
   {
    "duration": 51,
    "start_time": "2024-07-24T17:39:04.601Z"
   },
   {
    "duration": 3,
    "start_time": "2024-07-24T17:39:04.653Z"
   },
   {
    "duration": 5397,
    "start_time": "2024-07-24T17:39:04.657Z"
   },
   {
    "duration": 4285,
    "start_time": "2024-07-24T17:39:10.056Z"
   },
   {
    "duration": 75,
    "start_time": "2024-07-24T17:40:09.177Z"
   },
   {
    "duration": 51,
    "start_time": "2024-07-24T17:40:28.517Z"
   },
   {
    "duration": 930,
    "start_time": "2024-07-24T17:41:44.900Z"
   },
   {
    "duration": 62,
    "start_time": "2024-07-24T17:42:50.758Z"
   },
   {
    "duration": 48,
    "start_time": "2024-07-24T17:42:52.734Z"
   },
   {
    "duration": 31,
    "start_time": "2024-07-24T17:50:49.237Z"
   },
   {
    "duration": 30,
    "start_time": "2024-07-24T17:50:51.708Z"
   },
   {
    "duration": 30,
    "start_time": "2024-07-24T17:50:55.068Z"
   },
   {
    "duration": 29,
    "start_time": "2024-07-24T17:50:57.048Z"
   },
   {
    "duration": 28,
    "start_time": "2024-07-24T17:50:59.103Z"
   },
   {
    "duration": 21,
    "start_time": "2024-07-24T17:51:15.463Z"
   },
   {
    "duration": 7,
    "start_time": "2024-07-24T17:51:21.544Z"
   },
   {
    "duration": 19,
    "start_time": "2024-07-24T17:51:34.237Z"
   },
   {
    "duration": 3,
    "start_time": "2024-07-24T17:52:45.509Z"
   },
   {
    "duration": 5678,
    "start_time": "2024-07-24T17:52:47.566Z"
   },
   {
    "duration": 11,
    "start_time": "2024-07-24T17:53:02.308Z"
   },
   {
    "duration": 3,
    "start_time": "2024-07-24T17:54:02.943Z"
   },
   {
    "duration": 3,
    "start_time": "2024-07-24T17:55:51.240Z"
   },
   {
    "duration": 5670,
    "start_time": "2024-07-24T17:55:54.938Z"
   },
   {
    "duration": 32,
    "start_time": "2024-07-24T17:56:50.030Z"
   },
   {
    "duration": 69,
    "start_time": "2024-07-24T17:56:57.574Z"
   },
   {
    "duration": 3,
    "start_time": "2024-07-24T17:57:02.096Z"
   },
   {
    "duration": 5408,
    "start_time": "2024-07-24T17:57:02.923Z"
   },
   {
    "duration": 78,
    "start_time": "2024-07-24T17:57:08.333Z"
   },
   {
    "duration": 3,
    "start_time": "2024-07-24T17:57:44.752Z"
   },
   {
    "duration": 5556,
    "start_time": "2024-07-24T17:57:47.185Z"
   },
   {
    "duration": 65,
    "start_time": "2024-07-24T17:57:53.427Z"
   },
   {
    "duration": 4,
    "start_time": "2024-07-24T17:58:42.835Z"
   },
   {
    "duration": 2,
    "start_time": "2024-07-24T17:58:49.921Z"
   },
   {
    "duration": 5576,
    "start_time": "2024-07-24T17:58:51.510Z"
   },
   {
    "duration": 69,
    "start_time": "2024-07-24T17:58:59.554Z"
   },
   {
    "duration": 3,
    "start_time": "2024-07-24T17:59:13.081Z"
   },
   {
    "duration": 5545,
    "start_time": "2024-07-24T17:59:16.643Z"
   },
   {
    "duration": 68,
    "start_time": "2024-07-24T17:59:23.006Z"
   },
   {
    "duration": 44,
    "start_time": "2024-07-24T17:59:36.160Z"
   },
   {
    "duration": 3,
    "start_time": "2024-07-24T18:00:05.605Z"
   },
   {
    "duration": 5697,
    "start_time": "2024-07-24T18:00:07.187Z"
   },
   {
    "duration": 74,
    "start_time": "2024-07-24T18:00:17.896Z"
   },
   {
    "duration": 46,
    "start_time": "2024-07-24T18:06:15.946Z"
   },
   {
    "duration": 478,
    "start_time": "2024-07-24T18:06:23.532Z"
   },
   {
    "duration": 51,
    "start_time": "2024-07-24T18:06:24.012Z"
   },
   {
    "duration": 3,
    "start_time": "2024-07-24T18:06:24.065Z"
   },
   {
    "duration": 4815,
    "start_time": "2024-07-24T18:06:24.069Z"
   },
   {
    "duration": 64,
    "start_time": "2024-07-24T18:06:28.886Z"
   },
   {
    "duration": 3721,
    "start_time": "2024-07-24T18:06:28.952Z"
   },
   {
    "duration": 558,
    "start_time": "2024-07-24T18:07:02.293Z"
   },
   {
    "duration": 51,
    "start_time": "2024-07-24T18:07:02.853Z"
   },
   {
    "duration": 3,
    "start_time": "2024-07-24T18:07:02.906Z"
   },
   {
    "duration": 5624,
    "start_time": "2024-07-24T18:07:02.910Z"
   },
   {
    "duration": 82,
    "start_time": "2024-07-24T18:07:08.536Z"
   },
   {
    "duration": 4403,
    "start_time": "2024-07-24T18:07:08.619Z"
   },
   {
    "duration": 5721,
    "start_time": "2024-07-24T18:10:06.749Z"
   },
   {
    "duration": 519,
    "start_time": "2024-07-24T18:14:59.600Z"
   },
   {
    "duration": 53,
    "start_time": "2024-07-24T18:15:00.121Z"
   },
   {
    "duration": 4,
    "start_time": "2024-07-24T18:15:00.176Z"
   },
   {
    "duration": 5688,
    "start_time": "2024-07-24T18:15:00.182Z"
   },
   {
    "duration": 79,
    "start_time": "2024-07-24T18:15:05.872Z"
   },
   {
    "duration": 4347,
    "start_time": "2024-07-24T18:15:05.952Z"
   },
   {
    "duration": 497,
    "start_time": "2024-07-24T18:18:42.594Z"
   },
   {
    "duration": 59,
    "start_time": "2024-07-24T18:18:43.092Z"
   },
   {
    "duration": 3,
    "start_time": "2024-07-24T18:18:43.153Z"
   },
   {
    "duration": 5526,
    "start_time": "2024-07-24T18:18:43.157Z"
   },
   {
    "duration": 75,
    "start_time": "2024-07-24T18:18:48.685Z"
   },
   {
    "duration": 4007,
    "start_time": "2024-07-24T18:18:48.762Z"
   },
   {
    "duration": 4148,
    "start_time": "2024-07-24T18:19:20.048Z"
   },
   {
    "duration": 4314,
    "start_time": "2024-07-24T18:19:29.903Z"
   },
   {
    "duration": 4159,
    "start_time": "2024-07-24T18:21:21.879Z"
   },
   {
    "duration": 3,
    "start_time": "2024-07-24T18:27:05.125Z"
   },
   {
    "duration": 5521,
    "start_time": "2024-07-24T18:27:07.940Z"
   },
   {
    "duration": 4045,
    "start_time": "2024-07-24T18:27:22.075Z"
   },
   {
    "duration": 2,
    "start_time": "2024-07-24T19:07:14.790Z"
   },
   {
    "duration": 48,
    "start_time": "2024-07-24T19:13:14.892Z"
   },
   {
    "duration": 478,
    "start_time": "2024-07-24T19:18:02.711Z"
   },
   {
    "duration": 52,
    "start_time": "2024-07-24T19:18:03.190Z"
   },
   {
    "duration": 3,
    "start_time": "2024-07-24T19:18:03.243Z"
   },
   {
    "duration": 75,
    "start_time": "2024-07-24T19:18:03.247Z"
   },
   {
    "duration": 508,
    "start_time": "2024-07-24T19:19:09.674Z"
   },
   {
    "duration": 51,
    "start_time": "2024-07-24T19:19:10.184Z"
   },
   {
    "duration": 3,
    "start_time": "2024-07-24T19:19:10.236Z"
   },
   {
    "duration": 66,
    "start_time": "2024-07-24T19:19:10.240Z"
   },
   {
    "duration": 6,
    "start_time": "2024-07-24T19:19:26.839Z"
   },
   {
    "duration": 5288,
    "start_time": "2024-07-24T19:19:48.483Z"
   },
   {
    "duration": 3926,
    "start_time": "2024-07-24T19:19:55.869Z"
   },
   {
    "duration": 506,
    "start_time": "2024-07-24T19:20:02.771Z"
   },
   {
    "duration": 54,
    "start_time": "2024-07-24T19:20:03.280Z"
   },
   {
    "duration": 3,
    "start_time": "2024-07-24T19:20:03.336Z"
   },
   {
    "duration": 5333,
    "start_time": "2024-07-24T19:20:03.341Z"
   },
   {
    "duration": 4182,
    "start_time": "2024-07-24T19:20:08.676Z"
   }
  ],
  "kernelspec": {
   "display_name": "Python 3 (ipykernel)",
   "language": "python",
   "name": "python3"
  },
  "language_info": {
   "codemirror_mode": {
    "name": "ipython",
    "version": 3
   },
   "file_extension": ".py",
   "mimetype": "text/x-python",
   "name": "python",
   "nbconvert_exporter": "python",
   "pygments_lexer": "ipython3",
   "version": "3.11.5"
  },
  "toc": {
   "base_numbering": 1,
   "nav_menu": {},
   "number_sections": true,
   "sideBar": true,
   "skip_h1_title": true,
   "title_cell": "Table of Contents",
   "title_sidebar": "Contents",
   "toc_cell": false,
   "toc_position": {},
   "toc_section_display": true,
   "toc_window_display": false
  }
 },
 "nbformat": 4,
 "nbformat_minor": 5
}
